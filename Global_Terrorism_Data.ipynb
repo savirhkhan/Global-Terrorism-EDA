{
  "nbformat": 4,
  "nbformat_minor": 0,
  "metadata": {
    "colab": {
      "name": "Global Terrorism Data.ipynb",
      "provenance": [],
      "collapsed_sections": [],
      "authorship_tag": "ABX9TyNYOLpHRi/ISxDCbG+u4Lbc",
      "include_colab_link": true
    },
    "kernelspec": {
      "name": "python3",
      "display_name": "Python 3"
    },
    "language_info": {
      "name": "python"
    }
  },
  "cells": [
    {
      "cell_type": "markdown",
      "metadata": {
        "id": "view-in-github",
        "colab_type": "text"
      },
      "source": [
        "<a href=\"https://colab.research.google.com/github/savirhkhan/Global-Terrorism-EDA/blob/main/Global_Terrorism_Data.ipynb\" target=\"_parent\"><img src=\"https://colab.research.google.com/assets/colab-badge.svg\" alt=\"Open In Colab\"/></a>"
      ]
    },
    {
      "cell_type": "markdown",
      "source": [
        "## <b> The Global Terrorism Database (GTD) is an open-source database including information on terrorist attacks around the world from 1970 through 2017. The GTD includes systematic data on domestic as well as international terrorist incidents that have occurred during this time period and now includes more than 180,000 attacks. The database is maintained by researchers at the National Consortium for the Study of Terrorism and Responses to Terrorism (START), headquartered at the University of Maryland.</b>\n",
        "\n",
        "# <b> Explore and analyze the data to discover key findings pertaining to terrorist activities. </b>"
      ],
      "metadata": {
        "id": "bB9vvt5YVYpM"
      }
    },
    {
      "cell_type": "code",
      "execution_count": 32,
      "metadata": {
        "id": "v-aZQYFxrVe-"
      },
      "outputs": [],
      "source": [
        "#importing libraries to be used\n",
        "import pandas as pd\n",
        "import numpy as np\n",
        "import matplotlib.pyplot as plt\n",
        "import seaborn as sns"
      ]
    },
    {
      "cell_type": "code",
      "source": [
        "#connecting google drive with the colab inviroment where--dataset is saved\n",
        "from google.colab import drive\n",
        "drive.mount('/content/drive')"
      ],
      "metadata": {
        "colab": {
          "base_uri": "https://localhost:8080/"
        },
        "id": "CtUfrwafrhDm",
        "outputId": "58b60eca-b064-48e4-b05b-d8f5396cb610"
      },
      "execution_count": 33,
      "outputs": [
        {
          "output_type": "stream",
          "name": "stdout",
          "text": [
            "Drive already mounted at /content/drive; to attempt to forcibly remount, call drive.mount(\"/content/drive\", force_remount=True).\n"
          ]
        }
      ]
    },
    {
      "cell_type": "code",
      "source": [
        "#loading the data set from given path\n",
        "df = pd.read_csv('/content/drive/MyDrive/Data sets/Global Terrorism Data.csv',encoding=\"ISO-8859-1\")"
      ],
      "metadata": {
        "colab": {
          "base_uri": "https://localhost:8080/"
        },
        "id": "o_dGoffbry-V",
        "outputId": "610014f3-7b8b-454e-b9de-6dca1daf6c52"
      },
      "execution_count": 34,
      "outputs": [
        {
          "output_type": "stream",
          "name": "stderr",
          "text": [
            "/usr/local/lib/python3.7/dist-packages/IPython/core/interactiveshell.py:2882: DtypeWarning: Columns (4,6,31,33,61,62,63,76,79,90,92,94,96,114,115,121) have mixed types.Specify dtype option on import or set low_memory=False.\n",
            "  exec(code_obj, self.user_global_ns, self.user_ns)\n"
          ]
        }
      ]
    },
    {
      "cell_type": "code",
      "source": [
        "# checking first 5 rows to get the general overview of data frame\n",
        "df.head()"
      ],
      "metadata": {
        "colab": {
          "base_uri": "https://localhost:8080/",
          "height": 317
        },
        "id": "TT6baiHfsRLh",
        "outputId": "244f9124-952f-4788-d450-d73dded28ee9"
      },
      "execution_count": 35,
      "outputs": [
        {
          "output_type": "execute_result",
          "data": {
            "text/plain": [
              "        eventid  iyear  imonth  iday approxdate  extended resolution  country  \\\n",
              "0  197000000001   1970       7     2        NaN         0        NaN       58   \n",
              "1  197000000002   1970       0     0        NaN         0        NaN      130   \n",
              "2  197001000001   1970       1     0        NaN         0        NaN      160   \n",
              "3  197001000002   1970       1     0        NaN         0        NaN       78   \n",
              "4  197001000003   1970       1     0        NaN         0        NaN      101   \n",
              "\n",
              "          country_txt  region  ... addnotes scite1 scite2  scite3  dbsource  \\\n",
              "0  Dominican Republic       2  ...      NaN    NaN    NaN     NaN      PGIS   \n",
              "1              Mexico       1  ...      NaN    NaN    NaN     NaN      PGIS   \n",
              "2         Philippines       5  ...      NaN    NaN    NaN     NaN      PGIS   \n",
              "3              Greece       8  ...      NaN    NaN    NaN     NaN      PGIS   \n",
              "4               Japan       4  ...      NaN    NaN    NaN     NaN      PGIS   \n",
              "\n",
              "   INT_LOG  INT_IDEO INT_MISC INT_ANY  related  \n",
              "0        0         0        0       0      NaN  \n",
              "1        0         1        1       1      NaN  \n",
              "2       -9        -9        1       1      NaN  \n",
              "3       -9        -9        1       1      NaN  \n",
              "4       -9        -9        1       1      NaN  \n",
              "\n",
              "[5 rows x 135 columns]"
            ],
            "text/html": [
              "\n",
              "  <div id=\"df-4f821a91-4ee1-4784-9bda-c65ed7592a97\">\n",
              "    <div class=\"colab-df-container\">\n",
              "      <div>\n",
              "<style scoped>\n",
              "    .dataframe tbody tr th:only-of-type {\n",
              "        vertical-align: middle;\n",
              "    }\n",
              "\n",
              "    .dataframe tbody tr th {\n",
              "        vertical-align: top;\n",
              "    }\n",
              "\n",
              "    .dataframe thead th {\n",
              "        text-align: right;\n",
              "    }\n",
              "</style>\n",
              "<table border=\"1\" class=\"dataframe\">\n",
              "  <thead>\n",
              "    <tr style=\"text-align: right;\">\n",
              "      <th></th>\n",
              "      <th>eventid</th>\n",
              "      <th>iyear</th>\n",
              "      <th>imonth</th>\n",
              "      <th>iday</th>\n",
              "      <th>approxdate</th>\n",
              "      <th>extended</th>\n",
              "      <th>resolution</th>\n",
              "      <th>country</th>\n",
              "      <th>country_txt</th>\n",
              "      <th>region</th>\n",
              "      <th>...</th>\n",
              "      <th>addnotes</th>\n",
              "      <th>scite1</th>\n",
              "      <th>scite2</th>\n",
              "      <th>scite3</th>\n",
              "      <th>dbsource</th>\n",
              "      <th>INT_LOG</th>\n",
              "      <th>INT_IDEO</th>\n",
              "      <th>INT_MISC</th>\n",
              "      <th>INT_ANY</th>\n",
              "      <th>related</th>\n",
              "    </tr>\n",
              "  </thead>\n",
              "  <tbody>\n",
              "    <tr>\n",
              "      <th>0</th>\n",
              "      <td>197000000001</td>\n",
              "      <td>1970</td>\n",
              "      <td>7</td>\n",
              "      <td>2</td>\n",
              "      <td>NaN</td>\n",
              "      <td>0</td>\n",
              "      <td>NaN</td>\n",
              "      <td>58</td>\n",
              "      <td>Dominican Republic</td>\n",
              "      <td>2</td>\n",
              "      <td>...</td>\n",
              "      <td>NaN</td>\n",
              "      <td>NaN</td>\n",
              "      <td>NaN</td>\n",
              "      <td>NaN</td>\n",
              "      <td>PGIS</td>\n",
              "      <td>0</td>\n",
              "      <td>0</td>\n",
              "      <td>0</td>\n",
              "      <td>0</td>\n",
              "      <td>NaN</td>\n",
              "    </tr>\n",
              "    <tr>\n",
              "      <th>1</th>\n",
              "      <td>197000000002</td>\n",
              "      <td>1970</td>\n",
              "      <td>0</td>\n",
              "      <td>0</td>\n",
              "      <td>NaN</td>\n",
              "      <td>0</td>\n",
              "      <td>NaN</td>\n",
              "      <td>130</td>\n",
              "      <td>Mexico</td>\n",
              "      <td>1</td>\n",
              "      <td>...</td>\n",
              "      <td>NaN</td>\n",
              "      <td>NaN</td>\n",
              "      <td>NaN</td>\n",
              "      <td>NaN</td>\n",
              "      <td>PGIS</td>\n",
              "      <td>0</td>\n",
              "      <td>1</td>\n",
              "      <td>1</td>\n",
              "      <td>1</td>\n",
              "      <td>NaN</td>\n",
              "    </tr>\n",
              "    <tr>\n",
              "      <th>2</th>\n",
              "      <td>197001000001</td>\n",
              "      <td>1970</td>\n",
              "      <td>1</td>\n",
              "      <td>0</td>\n",
              "      <td>NaN</td>\n",
              "      <td>0</td>\n",
              "      <td>NaN</td>\n",
              "      <td>160</td>\n",
              "      <td>Philippines</td>\n",
              "      <td>5</td>\n",
              "      <td>...</td>\n",
              "      <td>NaN</td>\n",
              "      <td>NaN</td>\n",
              "      <td>NaN</td>\n",
              "      <td>NaN</td>\n",
              "      <td>PGIS</td>\n",
              "      <td>-9</td>\n",
              "      <td>-9</td>\n",
              "      <td>1</td>\n",
              "      <td>1</td>\n",
              "      <td>NaN</td>\n",
              "    </tr>\n",
              "    <tr>\n",
              "      <th>3</th>\n",
              "      <td>197001000002</td>\n",
              "      <td>1970</td>\n",
              "      <td>1</td>\n",
              "      <td>0</td>\n",
              "      <td>NaN</td>\n",
              "      <td>0</td>\n",
              "      <td>NaN</td>\n",
              "      <td>78</td>\n",
              "      <td>Greece</td>\n",
              "      <td>8</td>\n",
              "      <td>...</td>\n",
              "      <td>NaN</td>\n",
              "      <td>NaN</td>\n",
              "      <td>NaN</td>\n",
              "      <td>NaN</td>\n",
              "      <td>PGIS</td>\n",
              "      <td>-9</td>\n",
              "      <td>-9</td>\n",
              "      <td>1</td>\n",
              "      <td>1</td>\n",
              "      <td>NaN</td>\n",
              "    </tr>\n",
              "    <tr>\n",
              "      <th>4</th>\n",
              "      <td>197001000003</td>\n",
              "      <td>1970</td>\n",
              "      <td>1</td>\n",
              "      <td>0</td>\n",
              "      <td>NaN</td>\n",
              "      <td>0</td>\n",
              "      <td>NaN</td>\n",
              "      <td>101</td>\n",
              "      <td>Japan</td>\n",
              "      <td>4</td>\n",
              "      <td>...</td>\n",
              "      <td>NaN</td>\n",
              "      <td>NaN</td>\n",
              "      <td>NaN</td>\n",
              "      <td>NaN</td>\n",
              "      <td>PGIS</td>\n",
              "      <td>-9</td>\n",
              "      <td>-9</td>\n",
              "      <td>1</td>\n",
              "      <td>1</td>\n",
              "      <td>NaN</td>\n",
              "    </tr>\n",
              "  </tbody>\n",
              "</table>\n",
              "<p>5 rows × 135 columns</p>\n",
              "</div>\n",
              "      <button class=\"colab-df-convert\" onclick=\"convertToInteractive('df-4f821a91-4ee1-4784-9bda-c65ed7592a97')\"\n",
              "              title=\"Convert this dataframe to an interactive table.\"\n",
              "              style=\"display:none;\">\n",
              "        \n",
              "  <svg xmlns=\"http://www.w3.org/2000/svg\" height=\"24px\"viewBox=\"0 0 24 24\"\n",
              "       width=\"24px\">\n",
              "    <path d=\"M0 0h24v24H0V0z\" fill=\"none\"/>\n",
              "    <path d=\"M18.56 5.44l.94 2.06.94-2.06 2.06-.94-2.06-.94-.94-2.06-.94 2.06-2.06.94zm-11 1L8.5 8.5l.94-2.06 2.06-.94-2.06-.94L8.5 2.5l-.94 2.06-2.06.94zm10 10l.94 2.06.94-2.06 2.06-.94-2.06-.94-.94-2.06-.94 2.06-2.06.94z\"/><path d=\"M17.41 7.96l-1.37-1.37c-.4-.4-.92-.59-1.43-.59-.52 0-1.04.2-1.43.59L10.3 9.45l-7.72 7.72c-.78.78-.78 2.05 0 2.83L4 21.41c.39.39.9.59 1.41.59.51 0 1.02-.2 1.41-.59l7.78-7.78 2.81-2.81c.8-.78.8-2.07 0-2.86zM5.41 20L4 18.59l7.72-7.72 1.47 1.35L5.41 20z\"/>\n",
              "  </svg>\n",
              "      </button>\n",
              "      \n",
              "  <style>\n",
              "    .colab-df-container {\n",
              "      display:flex;\n",
              "      flex-wrap:wrap;\n",
              "      gap: 12px;\n",
              "    }\n",
              "\n",
              "    .colab-df-convert {\n",
              "      background-color: #E8F0FE;\n",
              "      border: none;\n",
              "      border-radius: 50%;\n",
              "      cursor: pointer;\n",
              "      display: none;\n",
              "      fill: #1967D2;\n",
              "      height: 32px;\n",
              "      padding: 0 0 0 0;\n",
              "      width: 32px;\n",
              "    }\n",
              "\n",
              "    .colab-df-convert:hover {\n",
              "      background-color: #E2EBFA;\n",
              "      box-shadow: 0px 1px 2px rgba(60, 64, 67, 0.3), 0px 1px 3px 1px rgba(60, 64, 67, 0.15);\n",
              "      fill: #174EA6;\n",
              "    }\n",
              "\n",
              "    [theme=dark] .colab-df-convert {\n",
              "      background-color: #3B4455;\n",
              "      fill: #D2E3FC;\n",
              "    }\n",
              "\n",
              "    [theme=dark] .colab-df-convert:hover {\n",
              "      background-color: #434B5C;\n",
              "      box-shadow: 0px 1px 3px 1px rgba(0, 0, 0, 0.15);\n",
              "      filter: drop-shadow(0px 1px 2px rgba(0, 0, 0, 0.3));\n",
              "      fill: #FFFFFF;\n",
              "    }\n",
              "  </style>\n",
              "\n",
              "      <script>\n",
              "        const buttonEl =\n",
              "          document.querySelector('#df-4f821a91-4ee1-4784-9bda-c65ed7592a97 button.colab-df-convert');\n",
              "        buttonEl.style.display =\n",
              "          google.colab.kernel.accessAllowed ? 'block' : 'none';\n",
              "\n",
              "        async function convertToInteractive(key) {\n",
              "          const element = document.querySelector('#df-4f821a91-4ee1-4784-9bda-c65ed7592a97');\n",
              "          const dataTable =\n",
              "            await google.colab.kernel.invokeFunction('convertToInteractive',\n",
              "                                                     [key], {});\n",
              "          if (!dataTable) return;\n",
              "\n",
              "          const docLinkHtml = 'Like what you see? Visit the ' +\n",
              "            '<a target=\"_blank\" href=https://colab.research.google.com/notebooks/data_table.ipynb>data table notebook</a>'\n",
              "            + ' to learn more about interactive tables.';\n",
              "          element.innerHTML = '';\n",
              "          dataTable['output_type'] = 'display_data';\n",
              "          await google.colab.output.renderOutput(dataTable, element);\n",
              "          const docLink = document.createElement('div');\n",
              "          docLink.innerHTML = docLinkHtml;\n",
              "          element.appendChild(docLink);\n",
              "        }\n",
              "      </script>\n",
              "    </div>\n",
              "  </div>\n",
              "  "
            ]
          },
          "metadata": {},
          "execution_count": 35
        }
      ]
    },
    {
      "cell_type": "code",
      "source": [
        "#checking how many total coloums and rows present in Data Frame it will show like(tota_rows,total_columns)\n",
        "df.shape"
      ],
      "metadata": {
        "colab": {
          "base_uri": "https://localhost:8080/"
        },
        "id": "G2ld4spPsfp5",
        "outputId": "f05a79cb-5a4f-4d50-8e67-91473c937a72"
      },
      "execution_count": 37,
      "outputs": [
        {
          "output_type": "execute_result",
          "data": {
            "text/plain": [
              "(181691, 135)"
            ]
          },
          "metadata": {},
          "execution_count": 37
        }
      ]
    },
    {
      "cell_type": "code",
      "source": [
        "#get the details of attiributes\n",
        "df.info()"
      ],
      "metadata": {
        "colab": {
          "base_uri": "https://localhost:8080/"
        },
        "id": "E_t75AqOslaT",
        "outputId": "2f9274c3-d428-4bc6-d5f5-b30b1e1b78ac"
      },
      "execution_count": 38,
      "outputs": [
        {
          "output_type": "stream",
          "name": "stdout",
          "text": [
            "<class 'pandas.core.frame.DataFrame'>\n",
            "RangeIndex: 181691 entries, 0 to 181690\n",
            "Columns: 135 entries, eventid to related\n",
            "dtypes: float64(55), int64(22), object(58)\n",
            "memory usage: 187.1+ MB\n"
          ]
        }
      ]
    },
    {
      "cell_type": "code",
      "source": [
        "# Checking how many variables has more than 70% NaN values and store the name of columns in the list columns_with_high_NaN\n",
        "columns_with_high_NaN = [i for i in df.columns if df[i].isna().sum()*100/len(df)>70]\n",
        "  "
      ],
      "metadata": {
        "id": "JD641I1ev7At"
      },
      "execution_count": 39,
      "outputs": []
    },
    {
      "cell_type": "code",
      "source": [
        "# Prints name of all the columns with more than 70% of NaN values\n",
        "columns_with_high_NaN"
      ],
      "metadata": {
        "colab": {
          "base_uri": "https://localhost:8080/"
        },
        "id": "EKTPLqLGwoBh",
        "outputId": "dfe82166-71fd-4a42-9b90-d6b2b2b03286"
      },
      "execution_count": 40,
      "outputs": [
        {
          "output_type": "execute_result",
          "data": {
            "text/plain": [
              "['approxdate',\n",
              " 'resolution',\n",
              " 'alternative',\n",
              " 'alternative_txt',\n",
              " 'attacktype2',\n",
              " 'attacktype2_txt',\n",
              " 'attacktype3',\n",
              " 'attacktype3_txt',\n",
              " 'targtype2',\n",
              " 'targtype2_txt',\n",
              " 'targsubtype2',\n",
              " 'targsubtype2_txt',\n",
              " 'corp2',\n",
              " 'target2',\n",
              " 'natlty2',\n",
              " 'natlty2_txt',\n",
              " 'targtype3',\n",
              " 'targtype3_txt',\n",
              " 'targsubtype3',\n",
              " 'targsubtype3_txt',\n",
              " 'corp3',\n",
              " 'target3',\n",
              " 'natlty3',\n",
              " 'natlty3_txt',\n",
              " 'gsubname',\n",
              " 'gname2',\n",
              " 'gsubname2',\n",
              " 'gname3',\n",
              " 'gsubname3',\n",
              " 'motive',\n",
              " 'guncertain2',\n",
              " 'guncertain3',\n",
              " 'claimmode',\n",
              " 'claimmode_txt',\n",
              " 'claim2',\n",
              " 'claimmode2',\n",
              " 'claimmode2_txt',\n",
              " 'claim3',\n",
              " 'claimmode3',\n",
              " 'claimmode3_txt',\n",
              " 'compclaim',\n",
              " 'weaptype2',\n",
              " 'weaptype2_txt',\n",
              " 'weapsubtype2',\n",
              " 'weapsubtype2_txt',\n",
              " 'weaptype3',\n",
              " 'weaptype3_txt',\n",
              " 'weapsubtype3',\n",
              " 'weapsubtype3_txt',\n",
              " 'weaptype4',\n",
              " 'weaptype4_txt',\n",
              " 'weapsubtype4',\n",
              " 'weapsubtype4_txt',\n",
              " 'propvalue',\n",
              " 'nhostkid',\n",
              " 'nhostkidus',\n",
              " 'nhours',\n",
              " 'ndays',\n",
              " 'divert',\n",
              " 'kidhijcountry',\n",
              " 'ransomamt',\n",
              " 'ransomamtus',\n",
              " 'ransompaid',\n",
              " 'ransompaidus',\n",
              " 'ransomnote',\n",
              " 'hostkidoutcome',\n",
              " 'hostkidoutcome_txt',\n",
              " 'nreleased',\n",
              " 'addnotes',\n",
              " 'scite3',\n",
              " 'related']"
            ]
          },
          "metadata": {},
          "execution_count": 40
        }
      ]
    },
    {
      "cell_type": "code",
      "source": [
        "# removing the columns with more than 70% NaN values from data frame\n",
        "df.drop(columns_with_high_NaN,inplace=True,axis=1)"
      ],
      "metadata": {
        "id": "h9pezmvvsy92"
      },
      "execution_count": 41,
      "outputs": []
    },
    {
      "cell_type": "code",
      "source": [
        "# checking attributes of Data Frame after removing variales with high NaN\n",
        "df.info()"
      ],
      "metadata": {
        "colab": {
          "base_uri": "https://localhost:8080/"
        },
        "id": "8LHgMttMu5Wc",
        "outputId": "2e701988-4f8a-4179-bd12-812bf9888631"
      },
      "execution_count": 43,
      "outputs": [
        {
          "output_type": "stream",
          "name": "stdout",
          "text": [
            "<class 'pandas.core.frame.DataFrame'>\n",
            "RangeIndex: 181691 entries, 0 to 181690\n",
            "Data columns (total 64 columns):\n",
            " #   Column            Non-Null Count   Dtype  \n",
            "---  ------            --------------   -----  \n",
            " 0   eventid           181691 non-null  int64  \n",
            " 1   iyear             181691 non-null  int64  \n",
            " 2   imonth            181691 non-null  int64  \n",
            " 3   iday              181691 non-null  int64  \n",
            " 4   extended          181691 non-null  int64  \n",
            " 5   country           181691 non-null  int64  \n",
            " 6   country_txt       181691 non-null  object \n",
            " 7   region            181691 non-null  int64  \n",
            " 8   region_txt        181691 non-null  object \n",
            " 9   provstate         181270 non-null  object \n",
            " 10  city              181257 non-null  object \n",
            " 11  latitude          177135 non-null  float64\n",
            " 12  longitude         177134 non-null  float64\n",
            " 13  specificity       181685 non-null  float64\n",
            " 14  vicinity          181691 non-null  int64  \n",
            " 15  location          55495 non-null   object \n",
            " 16  summary           115562 non-null  object \n",
            " 17  crit1             181691 non-null  int64  \n",
            " 18  crit2             181691 non-null  int64  \n",
            " 19  crit3             181691 non-null  int64  \n",
            " 20  doubtterr         181690 non-null  float64\n",
            " 21  multiple          181690 non-null  float64\n",
            " 22  success           181691 non-null  int64  \n",
            " 23  suicide           181691 non-null  int64  \n",
            " 24  attacktype1       181691 non-null  int64  \n",
            " 25  attacktype1_txt   181691 non-null  object \n",
            " 26  targtype1         181691 non-null  int64  \n",
            " 27  targtype1_txt     181691 non-null  object \n",
            " 28  targsubtype1      171318 non-null  float64\n",
            " 29  targsubtype1_txt  171318 non-null  object \n",
            " 30  corp1             139141 non-null  object \n",
            " 31  target1           181055 non-null  object \n",
            " 32  natlty1           180132 non-null  float64\n",
            " 33  natlty1_txt       180132 non-null  object \n",
            " 34  gname             181691 non-null  object \n",
            " 35  guncertain1       181311 non-null  float64\n",
            " 36  individual        181691 non-null  int64  \n",
            " 37  nperps            110576 non-null  float64\n",
            " 38  nperpcap          112202 non-null  float64\n",
            " 39  claimed           115571 non-null  float64\n",
            " 40  weaptype1         181691 non-null  int64  \n",
            " 41  weaptype1_txt     181691 non-null  object \n",
            " 42  weapsubtype1      160923 non-null  float64\n",
            " 43  weapsubtype1_txt  160923 non-null  object \n",
            " 44  weapdetail        114021 non-null  object \n",
            " 45  nkill             171378 non-null  float64\n",
            " 46  nkillus           117245 non-null  float64\n",
            " 47  nkillter          114733 non-null  float64\n",
            " 48  nwound            165380 non-null  float64\n",
            " 49  nwoundus          116989 non-null  float64\n",
            " 50  nwoundte          112548 non-null  float64\n",
            " 51  property          181691 non-null  int64  \n",
            " 52  propextent        64065 non-null   float64\n",
            " 53  propextent_txt    64065 non-null   object \n",
            " 54  propcomment       57959 non-null   object \n",
            " 55  ishostkid         181513 non-null  float64\n",
            " 56  ransom            77381 non-null   float64\n",
            " 57  scite1            115500 non-null  object \n",
            " 58  scite2            76933 non-null   object \n",
            " 59  dbsource          181691 non-null  object \n",
            " 60  INT_LOG           181691 non-null  int64  \n",
            " 61  INT_IDEO          181691 non-null  int64  \n",
            " 62  INT_MISC          181691 non-null  int64  \n",
            " 63  INT_ANY           181691 non-null  int64  \n",
            "dtypes: float64(21), int64(22), object(21)\n",
            "memory usage: 88.7+ MB\n"
          ]
        }
      ]
    },
    {
      "cell_type": "code",
      "source": [
        ""
      ],
      "metadata": {
        "colab": {
          "base_uri": "https://localhost:8080/"
        },
        "id": "KiMECxYO0twk",
        "outputId": "8a737571-fff1-41e7-921d-90cc54e85709"
      },
      "execution_count": null,
      "outputs": [
        {
          "output_type": "execute_result",
          "data": {
            "text/plain": [
              "array([0, 1])"
            ]
          },
          "metadata": {},
          "execution_count": 126
        }
      ]
    },
    {
      "cell_type": "code",
      "source": [
        ""
      ],
      "metadata": {
        "id": "MgrK-P712DK0"
      },
      "execution_count": null,
      "outputs": []
    }
  ]
}